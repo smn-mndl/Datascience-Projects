{
  "nbformat": 4,
  "nbformat_minor": 0,
  "metadata": {
    "colab": {
      "provenance": [],
      "authorship_tag": "ABX9TyPz3PDR/2LhwaKiQ1TFL6v9",
      "include_colab_link": true
    },
    "kernelspec": {
      "name": "python3",
      "display_name": "Python 3"
    },
    "language_info": {
      "name": "python"
    }
  },
  "cells": [
    {
      "cell_type": "markdown",
      "metadata": {
        "id": "view-in-github",
        "colab_type": "text"
      },
      "source": [
        "<a href=\"https://colab.research.google.com/github/smn-mndl/Datascience-Projects/blob/main/M22AI648_Problem_1.ipynb\" target=\"_parent\"><img src=\"https://colab.research.google.com/assets/colab-badge.svg\" alt=\"Open In Colab\"/></a>"
      ]
    },
    {
      "cell_type": "code",
      "execution_count": 1,
      "metadata": {
        "id": "q147M_tdk74I"
      },
      "outputs": [],
      "source": [
        "import numpy as np\n",
        "import tensorflow as tf\n",
        "from tensorflow import keras\n",
        "import pandas as pd\n",
        "from matplotlib import pyplot as plt\n",
        "%matplotlib inline\n",
        "import os\n",
        "import cv2"
      ]
    },
    {
      "cell_type": "code",
      "source": [
        "# Define the paths to your image folders\n",
        "train_path = 'C:\\\\Users\\\\biraj\\\\OneDrive\\\\PythonProjects\\\\Machine learning neural network\\\\'\n",
        "val_path = 'C:\\\\Users\\\\biraj\\\\OneDrive\\\\PythonProjects\\\\Machine learning neural network\\\\'"
      ],
      "metadata": {
        "id": "cHuDMNUqljtD"
      },
      "execution_count": null,
      "outputs": []
    }
  ]
}