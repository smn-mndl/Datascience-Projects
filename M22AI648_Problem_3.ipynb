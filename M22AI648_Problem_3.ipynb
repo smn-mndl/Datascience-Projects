{
  "nbformat": 4,
  "nbformat_minor": 0,
  "metadata": {
    "colab": {
      "provenance": [],
      "mount_file_id": "1gGs-oe4BO8YyNROYjLKKLWWwGcw_oB7x",
      "authorship_tag": "ABX9TyM5gdB3kTxY7DN4E0Op1CjK",
      "include_colab_link": true
    },
    "kernelspec": {
      "name": "python3",
      "display_name": "Python 3"
    },
    "language_info": {
      "name": "python"
    }
  },
  "cells": [
    {
      "cell_type": "markdown",
      "metadata": {
        "id": "view-in-github",
        "colab_type": "text"
      },
      "source": [
        "<a href=\"https://colab.research.google.com/github/smn-mndl/Datascience-Projects/blob/main/M22AI648_Problem_3.ipynb\" target=\"_parent\"><img src=\"https://colab.research.google.com/assets/colab-badge.svg\" alt=\"Open In Colab\"/></a>"
      ]
    },
    {
      "cell_type": "code",
      "execution_count": 1,
      "metadata": {
        "id": "zfZ9AudX5fMG"
      },
      "outputs": [],
      "source": [
        "\n",
        "import numpy as np\n",
        "import tensorflow as tf\n",
        "from tensorflow import keras\n",
        "from keras.models import Sequential\n",
        "import pandas as pd\n",
        "from matplotlib import pyplot as plt\n",
        "%matplotlib inline\n",
        "import os\n",
        "import cv2\n",
        "from keras.layers import Dense, Conv2D, MaxPooling2D, Flatten,GlobalAveragePooling2D\n",
        "from PIL import Image\n",
        "from sklearn.preprocessing import LabelEncoder\n",
        "from sklearn.metrics import confusion_matrix, classification_report"
      ]
    },
    {
      "cell_type": "code",
      "source": [
        "\n",
        "# Define the paths to your image and csv folders\n",
        "train_val_dir = \"C:\\\\Users\\\\suman\\\\Downloads\\\\charts (1)\\\\charts\\\\train_val\"\n",
        "test_dir = \"C:\\\\Users\\\\suman\\\\Downloads\\\\charts (1)\\\\charts\\\\test\"\n",
        "train_path_labels = \"C:\\\\Users\\\\suman\\\\Downloads\\\\charts (1)\\\\charts\\\\train_val\"\n",
        "train_val_labels = pd.read_csv(train_path_labels)\n"
      ],
      "metadata": {
        "id": "2BWPXKOQ6hub"
      },
      "execution_count": 8,
      "outputs": []
    },
    {
      "cell_type": "code",
      "source": [
        "\n",
        "# load training dataset in numpy array\n",
        "images = []\n",
        "labels = []\n",
        "for filename in os.listdir(train_val_dir):\n",
        "  if filename.endswith('.png'):\n",
        "    # Load the images and resize them to (128, 128) with 3 color channels\n",
        "    img = cv2.imread(os.path.join(train_val_dir, filename))\n",
        "    img = cv2.resize(img, (128, 128))\n",
        "    img = cv2.cvtColor(img, cv2.COLOR_BGR2RGB)\n",
        "\n",
        "    # img = Image.open(os.path.join(train_val_dir, filename))\n",
        "    img_array = np.array(img)\n",
        "    # Append the array to the list of images\n",
        "    images.append(img_array)\n",
        "    labels.append(filename)\n",
        "\n",
        "# Convert the string labels to numerical labels\n",
        "le = LabelEncoder()\n",
        "labels = le.fit_transform(labels)"
      ],
      "metadata": {
        "id": "vv0F_KHX8I7k"
      },
      "execution_count": null,
      "outputs": []
    },
    {
      "cell_type": "code",
      "source": [
        "# Convert the lists to NumPy arrays\n",
        "images = np.array(images)\n",
        "labels = np.array(labels)\n",
        "# Save the arrays in NumPy format\n",
        "np.save('x_train.npy', images)\n",
        "np.save('y_train.npy', labels)\n",
        "x_train = np.load('x_train.npy')\n",
        "y_train = np.load('y_train.npy') "
      ],
      "metadata": {
        "id": "9DPBxqR88Sfe"
      },
      "execution_count": null,
      "outputs": []
    },
    {
      "cell_type": "code",
      "source": [
        "x_train.shape"
      ],
      "metadata": {
        "id": "-1_b_rBI8UxL"
      },
      "execution_count": null,
      "outputs": []
    },
    {
      "cell_type": "code",
      "source": [
        "x_train[:5]\n",
        "y_train[:5]"
      ],
      "metadata": {
        "id": "KkIG9tg08VvK"
      },
      "execution_count": null,
      "outputs": []
    },
    {
      "cell_type": "code",
      "source": [
        "# load test dataset in numpy array\n",
        "images = []\n",
        "labels = []\n",
        "for filename in os.listdir(test_dir):\n",
        "  if filename.endswith('.png'):\n",
        "    # Load the images and resize them to (128, 128) with 3 color channels\n",
        "    img = cv2.imread(os.path.join(test_dir, filename))\n",
        "    img = cv2.resize(img, (128, 128))\n",
        "    img = cv2.cvtColor(img, cv2.COLOR_BGR2RGB)\n",
        "\n",
        "    # img = Image.open(os.path.join(test_dir, filename))\n",
        "    img_array = np.array(img)\n",
        "    # Append the array to the list of images\n",
        "    images.append(img_array)\n",
        "    labels.append(filename)\n",
        "# Convert the string labels to numerical labels\n",
        "le = LabelEncoder()\n",
        "labels = le.fit_transform(labels)"
      ],
      "metadata": {
        "id": "Xn5EbHH28cfv"
      },
      "execution_count": null,
      "outputs": []
    },
    {
      "cell_type": "code",
      "source": [
        "# Convert the lists to NumPy arrays\n",
        "images = np.array(images)\n",
        "labels = np.array(labels)\n",
        "# Save the arrays in NumPy format\n",
        "np.save('x_test.npy', images)\n",
        "np.save('y_test.npy', labels)\n",
        "x_test = np.load('x_test.npy')\n",
        "y_test = np.load('y_test.npy')"
      ],
      "metadata": {
        "id": "2_W0DXX78j5w"
      },
      "execution_count": null,
      "outputs": []
    },
    {
      "cell_type": "code",
      "source": [
        "x_test.shape"
      ],
      "metadata": {
        "id": "829zM5ww8sDX"
      },
      "execution_count": null,
      "outputs": []
    },
    {
      "cell_type": "code",
      "source": [
        "# check the images loaded\n",
        "plt.figure(figsize = (10,2))\n",
        "plt.imshow(x_train[10])\n",
        "plt.imshow(x_train[208])\n",
        "plt.imshow(x_train[444])"
      ],
      "metadata": {
        "id": "fii8cwaa8v-1"
      },
      "execution_count": null,
      "outputs": []
    },
    {
      "cell_type": "code",
      "source": [
        "# define some classes from the images we have observed\n",
        "image_classes = ['line', 'dot_line', 'hbar_categorical', 'vbar_categorical', 'pie']\n",
        "image_classes[0]\n",
        "# map the categories to the labels array i.e y_train\n",
        "label_map = {'line': 0, 'dot_line': 1, 'hbar_categorical': 2, 'vbar_categorical': 3, 'pie': 4}\n",
        "y_train = np.array([label_map[label] for label in train_val_labels['type']])\n",
        "y_train\n",
        "y_train.shape\n",
        "y_test.shape"
      ],
      "metadata": {
        "id": "nwtRUIYD8xLj"
      },
      "execution_count": null,
      "outputs": []
    },
    {
      "cell_type": "code",
      "source": [
        "# we need to map the lables from csv to the images somehow\n",
        "# function to test the chart sample\n",
        "def image_sample(x, y, index):\n",
        "  plt.figure(figsize = (10,2))\n",
        "  plt.imshow(x[index])\n",
        "  # image_label = train_val_labels.iloc[index]['type']\n",
        "  # plt.xlabel(image_label)\n",
        "  plt.xlabel(image_classes[y[index]])"
      ],
      "metadata": {
        "id": "OEhMO5kI87Hy"
      },
      "execution_count": null,
      "outputs": []
    },
    {
      "cell_type": "code",
      "source": [
        "image_sample(x_train,y_train,10)\n",
        "image_sample(x_train,y_train,280)\n",
        "image_sample(x_train,y_train,509)"
      ],
      "metadata": {
        "id": "uCzmVyzZ9AFC"
      },
      "execution_count": null,
      "outputs": []
    },
    {
      "cell_type": "code",
      "source": [
        "# normalize the image\n",
        "x_train=x_train /255\n",
        "x_test=x_train /255"
      ],
      "metadata": {
        "id": "RiUhXjNZ9HwS"
      },
      "execution_count": null,
      "outputs": []
    },
    {
      "cell_type": "code",
      "source": [
        "x_test.shape"
      ],
      "metadata": {
        "id": "WbR7bh5j9LpR"
      },
      "execution_count": null,
      "outputs": []
    },
    {
      "cell_type": "code",
      "source": [
        "# take the label for train data from csv file\n",
        "y_train_index = train_val_labels['image_index']\n",
        "y_train_type = train_val_labels['type']"
      ],
      "metadata": {
        "id": "6GFcooIl9QNl"
      },
      "execution_count": null,
      "outputs": []
    },
    {
      "cell_type": "code",
      "source": [
        "y_train_type[:5]"
      ],
      "metadata": {
        "id": "V8G8e65c9Szc"
      },
      "execution_count": null,
      "outputs": []
    },
    {
      "cell_type": "code",
      "source": [
        "# Let's write a simple nn to test first\n",
        "\n",
        "# Defining the model architecture\n",
        "model = Sequential([\n",
        " Flatten(input_shape=(128,128,3)),\n",
        " Dense(3000, activation='relu'),\n",
        " Dense(1000, activation='relu'),\n",
        " Dense(5, activation='softmax')\n",
        "])\n",
        "\n",
        "# Compiling the model\n",
        "model.compile(optimizer='SGD', loss='sparse_categorical_crossentropy', metrics=['accuracy'])\n",
        "model.fit(x_train,y_train,epochs=10)"
      ],
      "metadata": {
        "id": "eIjy2uxF9TuK"
      },
      "execution_count": null,
      "outputs": []
    },
    {
      "cell_type": "code",
      "source": [
        "# Split the training images and labels into training and validation sets\n",
        "from sklearn.model_selection import train_test_split\n",
        "\n",
        "x_train, x_test, y_train, y_test = train_test_split(x_train, y_train, test_size=0.2, random_state=42)"
      ],
      "metadata": {
        "id": "vsGs-loa9iy5"
      },
      "execution_count": null,
      "outputs": []
    },
    {
      "cell_type": "code",
      "source": [
        "model.evaluate(x_test,y_test)"
      ],
      "metadata": {
        "id": "bamqtalf9mOR"
      },
      "execution_count": null,
      "outputs": []
    },
    {
      "cell_type": "code",
      "source": [
        "y_pred = model.predict(x_test)\n",
        "y_pred\n",
        "y_pred_classes = [np.argmax(ele) for ele in y_pred]"
      ],
      "metadata": {
        "id": "IWKDbliw9q3C"
      },
      "execution_count": null,
      "outputs": []
    },
    {
      "cell_type": "code",
      "source": [
        "# Print the shapes of the arrays to verify that they loaded correctly\n",
        "print(\"Train Images Shape:\", x_train.shape)\n",
        "print(\"Train Labels Shape:\", y_train.shape)\n",
        "print(\"Test Images Shape:\", x_test.shape)\n",
        "print(\"Test Labels Shape:\", y_test.shape)\n"
      ],
      "metadata": {
        "id": "kpuzX-M99yZN"
      },
      "execution_count": null,
      "outputs": []
    },
    {
      "cell_type": "code",
      "source": [
        "# modify the model architecture to cmnn\n",
        "cnn_model = Sequential([\n",
        "  Conv2D(filters=16 ,kernel_size=(3,3), activation='relu', input_shape=(128,128,3)),\n",
        "  MaxPooling2D(pool_size=(2,2)),\n",
        "  Conv2D(32, (3,3), activation='relu'),\n",
        "  MaxPooling2D(pool_size=(2,2)),\n",
        "  Conv2D(64, (3,3), activation='relu'),\n",
        "  MaxPooling2D(pool_size=(2,2)),\n",
        "  Flatten(),\n",
        "  Dense(128, activation='relu'),\n",
        "  Dense(5, activation='softmax')\n",
        "])\n",
        "# Compile the model\n",
        "cnn_model.compile(optimizer='adam', loss='sparse_categorical_crossentropy', metrics=['accuracy'])\n",
        "# Train the model\n",
        "history = cnn_model.fit(x_train, y_train, batch_size=1000, epochs=50,validation_data=(x_test, y_test))\n",
        "# Plot the obtained loss\n",
        "plt.plot(history.history['loss'])\n",
        "plt.plot(history.history['val_loss'])\n",
        "plt.title('Model Loss')\n",
        "plt.ylabel('Loss')\n",
        "plt.xlabel('Epoch')\n",
        "plt.legend(['Train', 'Validation'], loc='upper right')\n",
        "plt.show()"
      ],
      "metadata": {
        "id": "ZvyHcVE39315"
      },
      "execution_count": null,
      "outputs": []
    },
    {
      "cell_type": "code",
      "source": [
        "cnn_model.evaluate(x_test,y_test)"
      ],
      "metadata": {
        "id": "1L0fXspu_HO7"
      },
      "execution_count": null,
      "outputs": []
    },
    {
      "cell_type": "code",
      "source": [
        "image_sample(x_test,y_test,1)\n",
        "image_sample(x_test,y_test,50)\n",
        "image_sample(x_test,y_test,25)\n",
        "image_sample(x_test,y_test,30)"
      ],
      "metadata": {
        "id": "W2zA8RwR_ILV"
      },
      "execution_count": null,
      "outputs": []
    },
    {
      "cell_type": "code",
      "source": [
        "y_pred = cnn_model.predict(x_test)\n",
        "y_pred[:5]"
      ],
      "metadata": {
        "id": "hJlm1MSc_PuU"
      },
      "execution_count": null,
      "outputs": []
    },
    {
      "cell_type": "code",
      "source": [
        "y_classes = [np.argmax(element) for element in y_pred]\n",
        "y_classes[:5]"
      ],
      "metadata": {
        "id": "-af8jWxf_Qu1"
      },
      "execution_count": null,
      "outputs": []
    },
    {
      "cell_type": "code",
      "source": [
        "y_test[:5]"
      ],
      "metadata": {
        "id": "SvoWDSrZ_UaB"
      },
      "execution_count": null,
      "outputs": []
    },
    {
      "cell_type": "code",
      "source": [
        "image_sample(x_test,y_test,20) #actual\n",
        "image_classes[y_classes[20]] #predicted"
      ],
      "metadata": {
        "id": "FE145TCh_au0"
      },
      "execution_count": null,
      "outputs": []
    },
    {
      "cell_type": "code",
      "source": [
        "print(\"classification report: \\n\", classification_report(y_test,y_classes))"
      ],
      "metadata": {
        "id": "UdrHbTo-_eqe"
      },
      "execution_count": null,
      "outputs": []
    },
    {
      "cell_type": "code",
      "source": [
        "# Generate the confusion matrix\n",
        "conf_mat = confusion_matrix(y_test, y_classes)\n",
        "print('Confusion Matrix:')\n",
        "print(conf_mat)"
      ],
      "metadata": {
        "id": "_eqfnqdt_iLE"
      },
      "execution_count": null,
      "outputs": []
    },
    {
      "cell_type": "code",
      "source": [
        "# Plot the confusion matrix\n",
        "import seaborn as sn\n",
        "plt.figure(figsize = (10,10))\n",
        "sn.heatmap(conf_mat,annot=True,fmt='d')\n",
        "plt.xlabel('Predicted')\n",
        "plt.ylabel('Actual')"
      ],
      "metadata": {
        "id": "LihsgbnC_lE9"
      },
      "execution_count": null,
      "outputs": []
    },
    {
      "cell_type": "markdown",
      "source": [
        "Now let's fine tune a pre-trained network and observe the results"
      ],
      "metadata": {
        "id": "e-lr34H5AAtP"
      }
    },
    {
      "cell_type": "code",
      "source": [
        "from keras.applications import VGG16\n",
        "from keras.layers import Dense, Dropout, Flatten\n",
        "from keras.models import Model\n",
        "from keras.optimizers import Adam\n",
        "from keras.preprocessing.image import ImageDataGenerator"
      ],
      "metadata": {
        "id": "sukE3xYZ_n2c"
      },
      "execution_count": 9,
      "outputs": []
    },
    {
      "cell_type": "code",
      "source": [
        "# Load the pre-trained model\n",
        "vgg16_model = VGG16(weights='imagenet', include_top=False, input_shape=(224, 224, 3))"
      ],
      "metadata": {
        "colab": {
          "base_uri": "https://localhost:8080/"
        },
        "id": "PgaodTCqANY6",
        "outputId": "cc81379b-a205-4b35-9ccc-abcfc06b73cf"
      },
      "execution_count": 10,
      "outputs": [
        {
          "output_type": "stream",
          "name": "stdout",
          "text": [
            "Downloading data from https://storage.googleapis.com/tensorflow/keras-applications/vgg16/vgg16_weights_tf_dim_ordering_tf_kernels_notop.h5\n",
            "58889256/58889256 [==============================] - 0s 0us/step\n"
          ]
        }
      ]
    },
    {
      "cell_type": "code",
      "source": [
        "# Replace the final classification layer with a new layer\n",
        "x = vgg16_model.output\n",
        "x = GlobalAveragePooling2D()(x)\n",
        "x = Dense(128, activation='relu')(x)\n",
        "predictions = Dense(5, activation='softmax')(x)\n",
        "pt_model = tf.keras.Model(inputs=vgg16_model.input, outputs=predictions)"
      ],
      "metadata": {
        "id": "YnUpAozYAvoI"
      },
      "execution_count": null,
      "outputs": []
    },
    {
      "cell_type": "code",
      "source": [
        "# Freeze the weights of all layers except the new classification layer\n",
        "for layer in pt_model.layers:\n",
        "  layer.trainable = False"
      ],
      "metadata": {
        "id": "-1U_Lr-QAxY3"
      },
      "execution_count": null,
      "outputs": []
    },
    {
      "cell_type": "code",
      "source": [
        "# Compile the model with categorical crossentropy loss and Adam optimizer\n",
        "pt_model.compile(loss='categorical_crossentropy', optimizer='adam', metrics=['accuracy'])"
      ],
      "metadata": {
        "id": "Td3FJwyTA1a7"
      },
      "execution_count": null,
      "outputs": []
    },
    {
      "cell_type": "code",
      "source": [
        "pt_model.fit(x_train, y_train, epochs=100, validation_data=(x_test, y_test))"
      ],
      "metadata": {
        "id": "gXnf3ib6B2Gl"
      },
      "execution_count": null,
      "outputs": []
    },
    {
      "cell_type": "code",
      "source": [
        "pt_model.evaluate(x_test,y_test)"
      ],
      "metadata": {
        "id": "YGD3eK8SCQ6T"
      },
      "execution_count": null,
      "outputs": []
    },
    {
      "cell_type": "code",
      "source": [
        "# Print the summary of the model architecture\n",
        "pt_model.summary()"
      ],
      "metadata": {
        "id": "XeKShaFdCWkg"
      },
      "execution_count": null,
      "outputs": []
    }
  ]
}