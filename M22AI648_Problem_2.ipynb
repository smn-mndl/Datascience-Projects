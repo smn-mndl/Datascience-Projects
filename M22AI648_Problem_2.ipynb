{
  "nbformat": 4,
  "nbformat_minor": 0,
  "metadata": {
    "colab": {
      "provenance": [],
      "mount_file_id": "1vHvNR82_i5fsDgLnzaznrXSMCDFMDX_3",
      "authorship_tag": "ABX9TyNNNN00zkoVy7AkaYrtGHvX",
      "include_colab_link": true
    },
    "kernelspec": {
      "name": "python3",
      "display_name": "Python 3"
    },
    "language_info": {
      "name": "python"
    }
  },
  "cells": [
    {
      "cell_type": "markdown",
      "metadata": {
        "id": "view-in-github",
        "colab_type": "text"
      },
      "source": [
        "<a href=\"https://colab.research.google.com/github/smn-mndl/Datascience-Projects/blob/main/M22AI648_Problem_2.ipynb\" target=\"_parent\"><img src=\"https://colab.research.google.com/assets/colab-badge.svg\" alt=\"Open In Colab\"/></a>"
      ]
    },
    {
      "cell_type": "code",
      "execution_count": null,
      "metadata": {
        "id": "q147M_tdk74I"
      },
      "outputs": [],
      "source": [
        "import numpy as np\n",
        "import tensorflow as tf\n",
        "from tensorflow import keras\n",
        "import pandas as pd\n",
        "from matplotlib import pyplot as plt\n",
        "%matplotlib inline\n",
        "import os\n",
        "import cv2"
      ]
    },
    {
      "cell_type": "code",
      "source": [
        "# Define the paths to your image folders\n",
        "train_path = '/content/drive/MyDrive/Project Files/Project Assignment/GurNum/GurNum/'\n",
        "val_path = '/content/drive/MyDrive/Project Files/Project Assignment/GurNum/GurNum/'\n"
      ],
      "metadata": {
        "id": "cHuDMNUqljtD"
      },
      "execution_count": null,
      "outputs": []
    },
    {
      "cell_type": "code",
      "source": [
        "# Set the path to the folder containing the 'train' folder\n",
        "data_dir = train_path\n",
        "# Set the image size\n",
        "img_size = (32, 32)\n",
        "# Create empty lists for the images and labels\n",
        "images = []\n",
        "labels = []\n",
        "# Loop over each folder from '0' to '9'\n",
        "for label in range(10):\n",
        "  folder_path = os.path.join(data_dir, 'train', str(label))\n",
        "  # Loop over each image in the folder\n",
        "  for file in os.listdir(folder_path):\n",
        "    file_path = os.path.join(folder_path, file)\n",
        "    if file_path.endswith(('.tiff','.bmp')):\n",
        "      # Load the image and resize it to the desired size\n",
        "      img = cv2.imread(file_path, cv2.IMREAD_GRAYSCALE)\n",
        "      img = cv2.resize(img, img_size)\n",
        "      # Append the image and label to the lists\n",
        "      images.append(img)\n",
        "      labels.append(label)\n",
        "# Convert the lists to NumPy arrays\n",
        "images = np.array(images)\n",
        "labels = np.array(labels)\n",
        "# Save the arrays in NumPy format\n",
        "np.save('x_train.npy', images)\n",
        "np.save('y_train.npy', labels)"
      ],
      "metadata": {
        "id": "42DF400PnKcQ"
      },
      "execution_count": null,
      "outputs": []
    },
    {
      "cell_type": "code",
      "source": [
        "# Set the path to the folder containing the 'val' folder\n",
        "data_dir_val = val_path\n",
        "# Set the image size\n",
        "img_size_val = (32, 32)\n",
        "# Create empty lists for the images and labels\n",
        "images_val = []\n",
        "labels_val = []\n",
        "# Loop over each folder from '0' to '9'\n",
        "for label in range(10):\n",
        "  folder_path = os.path.join(data_dir_val, 'val/', str(label))\n",
        " \n",
        "  # Loop over each image in the folder\n",
        "  for file in os.listdir(folder_path): \n",
        "    file_path = os.path.join(folder_path, file)\n",
        "    if file_path.endswith(('.tiff','.bmp')):\n",
        "      # Load the image and resize it to the desired size\n",
        "      img = cv2.imread(file_path, cv2.IMREAD_GRAYSCALE)\n",
        "      img = cv2.resize(img, img_size_val)\n",
        "      # Append the image and label to the lists\n",
        "      images_val.append(img)\n",
        "      labels_val.append(label)\n",
        "# Convert the lists to NumPy arrays\n",
        "images_val = np.array(images_val)\n",
        "labels_val = np.array(labels_val)\n",
        "# Save the arrays in NumPy format\n",
        "np.save('x_test.npy', images_val)\n",
        "np.save('y_test.npy', labels_val)"
      ],
      "metadata": {
        "id": "6SzsRf-wtrvz"
      },
      "execution_count": null,
      "outputs": []
    },
    {
      "cell_type": "code",
      "source": [
        "# Load the dataset\n",
        "x_train = np.load('x_train.npy')\n",
        "y_train = np.load('y_train.npy')\n",
        "x_test = np.load('x_test.npy')\n",
        "y_test = np.load('y_test.npy')"
      ],
      "metadata": {
        "id": "uQauRYsNuMkZ"
      },
      "execution_count": null,
      "outputs": []
    },
    {
      "cell_type": "code",
      "source": [
        "# test the images are loaded correctly\n",
        "print(len(x_train))\n",
        "print(len(x_test))\n",
        "x_train[0].shape\n",
        "x_train[0]\n",
        "plt.matshow(x_train[0])\n",
        "plt.matshow(x_train[200])\n",
        "plt.matshow(x_train[999])\n",
        "print(x_train.shape)\n",
        "print(x_test.shape)\n",
        "y_train"
      ],
      "metadata": {
        "colab": {
          "base_uri": "https://localhost:8080/",
          "height": 1000
        },
        "id": "qUL9KNEvuVGH",
        "outputId": "85e3a7ce-8a4f-4a5f-d700-81d884021e10"
      },
      "execution_count": null,
      "outputs": [
        {
          "output_type": "stream",
          "name": "stdout",
          "text": [
            "1000\n",
            "178\n",
            "(1000, 32, 32)\n",
            "(178, 32, 32)\n"
          ]
        },
        {
          "output_type": "execute_result",
          "data": {
            "text/plain": [
              "array([0, 0, 0, 0, 0, 0, 0, 0, 0, 0, 0, 0, 0, 0, 0, 0, 0, 0, 0, 0, 0, 0,\n",
              "       0, 0, 0, 0, 0, 0, 0, 0, 0, 0, 0, 0, 0, 0, 0, 0, 0, 0, 0, 0, 0, 0,\n",
              "       0, 0, 0, 0, 0, 0, 0, 0, 0, 0, 0, 0, 0, 0, 0, 0, 0, 0, 0, 0, 0, 0,\n",
              "       0, 0, 0, 0, 0, 0, 0, 0, 0, 0, 0, 0, 0, 0, 0, 0, 0, 0, 0, 0, 0, 0,\n",
              "       0, 0, 0, 0, 0, 0, 0, 0, 0, 0, 0, 0, 1, 1, 1, 1, 1, 1, 1, 1, 1, 1,\n",
              "       1, 1, 1, 1, 1, 1, 1, 1, 1, 1, 1, 1, 1, 1, 1, 1, 1, 1, 1, 1, 1, 1,\n",
              "       1, 1, 1, 1, 1, 1, 1, 1, 1, 1, 1, 1, 1, 1, 1, 1, 1, 1, 1, 1, 1, 1,\n",
              "       1, 1, 1, 1, 1, 1, 1, 1, 1, 1, 1, 1, 1, 1, 1, 1, 1, 1, 1, 1, 1, 1,\n",
              "       1, 1, 1, 1, 1, 1, 1, 1, 1, 1, 1, 1, 1, 1, 1, 1, 1, 1, 1, 1, 1, 1,\n",
              "       1, 1, 2, 2, 2, 2, 2, 2, 2, 2, 2, 2, 2, 2, 2, 2, 2, 2, 2, 2, 2, 2,\n",
              "       2, 2, 2, 2, 2, 2, 2, 2, 2, 2, 2, 2, 2, 2, 2, 2, 2, 2, 2, 2, 2, 2,\n",
              "       2, 2, 2, 2, 2, 2, 2, 2, 2, 2, 2, 2, 2, 2, 2, 2, 2, 2, 2, 2, 2, 2,\n",
              "       2, 2, 2, 2, 2, 2, 2, 2, 2, 2, 2, 2, 2, 2, 2, 2, 2, 2, 2, 2, 2, 2,\n",
              "       2, 2, 2, 2, 2, 2, 2, 2, 2, 2, 2, 2, 2, 2, 3, 3, 3, 3, 3, 3, 3, 3,\n",
              "       3, 3, 3, 3, 3, 3, 3, 3, 3, 3, 3, 3, 3, 3, 3, 3, 3, 3, 3, 3, 3, 3,\n",
              "       3, 3, 3, 3, 3, 3, 3, 3, 3, 3, 3, 3, 3, 3, 3, 3, 3, 3, 3, 3, 3, 3,\n",
              "       3, 3, 3, 3, 3, 3, 3, 3, 3, 3, 3, 3, 3, 3, 3, 3, 3, 3, 3, 3, 3, 3,\n",
              "       3, 3, 3, 3, 3, 3, 3, 3, 3, 3, 3, 3, 3, 3, 3, 3, 3, 3, 3, 3, 3, 3,\n",
              "       3, 3, 3, 3, 4, 4, 4, 4, 4, 4, 4, 4, 4, 4, 4, 4, 4, 4, 4, 4, 4, 4,\n",
              "       4, 4, 4, 4, 4, 4, 4, 4, 4, 4, 4, 4, 4, 4, 4, 4, 4, 4, 4, 4, 4, 4,\n",
              "       4, 4, 4, 4, 4, 4, 4, 4, 4, 4, 4, 4, 4, 4, 4, 4, 4, 4, 4, 4, 4, 4,\n",
              "       4, 4, 4, 4, 4, 4, 4, 4, 4, 4, 4, 4, 4, 4, 4, 4, 4, 4, 4, 4, 4, 4,\n",
              "       4, 4, 4, 4, 4, 4, 4, 4, 4, 4, 4, 4, 4, 4, 4, 4, 5, 5, 5, 5, 5, 5,\n",
              "       5, 5, 5, 5, 5, 5, 5, 5, 5, 5, 5, 5, 5, 5, 5, 5, 5, 5, 5, 5, 5, 5,\n",
              "       5, 5, 5, 5, 5, 5, 5, 5, 5, 5, 5, 5, 5, 5, 5, 5, 5, 5, 5, 5, 5, 5,\n",
              "       5, 5, 5, 5, 5, 5, 5, 5, 5, 5, 5, 5, 5, 5, 5, 5, 5, 5, 5, 5, 5, 5,\n",
              "       5, 5, 5, 5, 5, 5, 5, 5, 5, 5, 5, 5, 5, 5, 5, 5, 5, 5, 5, 5, 5, 5,\n",
              "       5, 5, 5, 5, 5, 5, 6, 6, 6, 6, 6, 6, 6, 6, 6, 6, 6, 6, 6, 6, 6, 6,\n",
              "       6, 6, 6, 6, 6, 6, 6, 6, 6, 6, 6, 6, 6, 6, 6, 6, 6, 6, 6, 6, 6, 6,\n",
              "       6, 6, 6, 6, 6, 6, 6, 6, 6, 6, 6, 6, 6, 6, 6, 6, 6, 6, 6, 6, 6, 6,\n",
              "       6, 6, 6, 6, 6, 6, 6, 6, 6, 6, 6, 6, 6, 6, 6, 6, 6, 6, 6, 6, 6, 6,\n",
              "       6, 6, 6, 6, 6, 6, 6, 6, 6, 6, 6, 6, 6, 6, 6, 6, 6, 6, 7, 7, 7, 7,\n",
              "       7, 7, 7, 7, 7, 7, 7, 7, 7, 7, 7, 7, 7, 7, 7, 7, 7, 7, 7, 7, 7, 7,\n",
              "       7, 7, 7, 7, 7, 7, 7, 7, 7, 7, 7, 7, 7, 7, 7, 7, 7, 7, 7, 7, 7, 7,\n",
              "       7, 7, 7, 7, 7, 7, 7, 7, 7, 7, 7, 7, 7, 7, 7, 7, 7, 7, 7, 7, 7, 7,\n",
              "       7, 7, 7, 7, 7, 7, 7, 7, 7, 7, 7, 7, 7, 7, 7, 7, 7, 7, 7, 7, 7, 7,\n",
              "       7, 7, 7, 7, 7, 7, 7, 7, 8, 8, 8, 8, 8, 8, 8, 8, 8, 8, 8, 8, 8, 8,\n",
              "       8, 8, 8, 8, 8, 8, 8, 8, 8, 8, 8, 8, 8, 8, 8, 8, 8, 8, 8, 8, 8, 8,\n",
              "       8, 8, 8, 8, 8, 8, 8, 8, 8, 8, 8, 8, 8, 8, 8, 8, 8, 8, 8, 8, 8, 8,\n",
              "       8, 8, 8, 8, 8, 8, 8, 8, 8, 8, 8, 8, 8, 8, 8, 8, 8, 8, 8, 8, 8, 8,\n",
              "       8, 8, 8, 8, 8, 8, 8, 8, 8, 8, 8, 8, 8, 8, 8, 8, 8, 8, 8, 8, 9, 9,\n",
              "       9, 9, 9, 9, 9, 9, 9, 9, 9, 9, 9, 9, 9, 9, 9, 9, 9, 9, 9, 9, 9, 9,\n",
              "       9, 9, 9, 9, 9, 9, 9, 9, 9, 9, 9, 9, 9, 9, 9, 9, 9, 9, 9, 9, 9, 9,\n",
              "       9, 9, 9, 9, 9, 9, 9, 9, 9, 9, 9, 9, 9, 9, 9, 9, 9, 9, 9, 9, 9, 9,\n",
              "       9, 9, 9, 9, 9, 9, 9, 9, 9, 9, 9, 9, 9, 9, 9, 9, 9, 9, 9, 9, 9, 9,\n",
              "       9, 9, 9, 9, 9, 9, 9, 9, 9, 9])"
            ]
          },
          "metadata": {},
          "execution_count": 27
        },
        {
          "output_type": "display_data",
          "data": {
            "text/plain": [
              "<Figure size 480x480 with 1 Axes>"
            ],
            "image/png": "[encoded data removed]"
          },
          "metadata": {}
        },
        {
          "output_type": "display_data",
          "data": {
            "text/plain": [
              "<Figure size 480x480 with 1 Axes>"
            ],
            "image/png": "[encoded data removed]"
          },
          "metadata": {}
        },
        {
          "output_type": "display_data",
          "data": {
            "text/plain": [
              "<Figure size 480x480 with 1 Axes>"
            ],
            "image/png": "[encoded data removed]"
          },
          "metadata": {}
        }
      ]
    },
    {
      "cell_type": "code",
      "source": [
        "\n",
        "# flatten the dataset from 2D to 1D\n",
        "x_train_flat = x_train.reshape(len(x_train),32*32)\n",
        "x_test_flat = x_test.reshape(len(x_test),32*32)\n",
        "print(x_train_flat.shape)\n",
        "print(x_test_flat.shape)\n",
        "x_train_flat[0]"
      ],
      "metadata": {
        "colab": {
          "base_uri": "https://localhost:8080/"
        },
        "id": "P61AT4Y10iGV",
        "outputId": "38793003-5ec6-4cb7-f7ce-ed2df30a79f8"
      },
      "execution_count": null,
      "outputs": [
        {
          "output_type": "stream",
          "name": "stdout",
          "text": [
            "(1000, 1024)\n",
            "(178, 1024)\n"
          ]
        },
        {
          "output_type": "execute_result",
          "data": {
            "text/plain": [
              "array([255, 255, 255, ..., 255, 255, 255], dtype=uint8)"
            ]
          },
          "metadata": {},
          "execution_count": 29
        }
      ]
    },
    {
      "cell_type": "code",
      "source": [
        "#let's create a simple NN with Keras\n",
        "# create a dense layer where every input is connected to every other output, the number of inputs are 1000, outputs are 10\n",
        "model = keras.Sequential([\n",
        " keras.layers.Dense(10, input_shape=(1024,),activation = 'sigmoid') \n",
        "])\n",
        "# compile the nn\n",
        "model.compile(optimizer='adam',\n",
        " loss='sparse_categorical_crossentropy',\n",
        " metrics=['accuracy']\n",
        " )\n",
        "# train the model\n",
        "# 5 iterations done here\n",
        "model.fit(x_train_flat, y_train,epochs= 5)"
      ],
      "metadata": {
        "colab": {
          "base_uri": "https://localhost:8080/"
        },
        "id": "LCTevca50v_7",
        "outputId": "9056214a-6638-41f5-f897-caad9d39a9fa"
      },
      "execution_count": null,
      "outputs": [
        {
          "output_type": "stream",
          "name": "stdout",
          "text": [
            "Epoch 1/5\n",
            "32/32 [==============================] - 1s 2ms/step - loss: 150.8380 - accuracy: 0.3910\n",
            "Epoch 2/5\n",
            "32/32 [==============================] - 0s 2ms/step - loss: 28.0559 - accuracy: 0.7810\n",
            "Epoch 3/5\n",
            "32/32 [==============================] - 0s 2ms/step - loss: 14.6289 - accuracy: 0.8710\n",
            "Epoch 4/5\n",
            "32/32 [==============================] - 0s 2ms/step - loss: 9.7785 - accuracy: 0.9100\n",
            "Epoch 5/5\n",
            "32/32 [==============================] - 0s 3ms/step - loss: 6.6652 - accuracy: 0.9270\n"
          ]
        },
        {
          "output_type": "execute_result",
          "data": {
            "text/plain": [
              "<keras.callbacks.History at 0x7f84a09a2d40>"
            ]
          },
          "metadata": {},
          "execution_count": 30
        }
      ]
    },
    {
      "cell_type": "code",
      "source": [
        "model.evaluate(x_test_flat,y_test)"
      ],
      "metadata": {
        "colab": {
          "base_uri": "https://localhost:8080/"
        },
        "id": "dXPzhzfL1GVy",
        "outputId": "998828ef-a012-43de-f69f-532a0fcaa945"
      },
      "execution_count": null,
      "outputs": [
        {
          "output_type": "stream",
          "name": "stdout",
          "text": [
            "6/6 [==============================] - 0s 3ms/step - loss: 19.6594 - accuracy: 0.8146\n"
          ]
        },
        {
          "output_type": "execute_result",
          "data": {
            "text/plain": [
              "[19.659440994262695, 0.8146067261695862]"
            ]
          },
          "metadata": {},
          "execution_count": 34
        }
      ]
    }
  ]
}